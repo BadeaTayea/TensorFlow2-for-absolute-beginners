{
  "nbformat": 4,
  "nbformat_minor": 0,
  "metadata": {
    "colab": {
      "name": "[tf24ab] Data prep with Numpy.ipynb",
      "version": "0.3.2",
      "provenance": [],
      "collapsed_sections": [],
      "include_colab_link": true
    },
    "kernelspec": {
      "name": "python3",
      "display_name": "Python 3"
    }
  },
  "cells": [
    {
      "cell_type": "markdown",
      "metadata": {
        "id": "view-in-github",
        "colab_type": "text"
      },
      "source": [
        "<a href=\"https://colab.research.google.com/github/kazunori279/TensorFlow2-for-absolute-beginners/blob/master/%5Btf24ab%5D_Data_prep_with_Numpy.ipynb\" target=\"_parent\"><img src=\"https://colab.research.google.com/assets/colab-badge.svg\" alt=\"Open In Colab\"/></a>"
      ]
    },
    {
      "cell_type": "code",
      "metadata": {
        "id": "tMczBykx48vP",
        "colab_type": "code",
        "colab": {}
      },
      "source": [
        "# numpy and matplotlib\n",
        "import numpy as np\n",
        "import matplotlib.pyplot as plt"
      ],
      "execution_count": 0,
      "outputs": []
    },
    {
      "cell_type": "code",
      "metadata": {
        "id": "Rd_2g5qBkrcE",
        "colab_type": "code",
        "colab": {}
      },
      "source": [
        "# generate child heights\n",
        "child_h = np.random.normal(162, 5, 10000) # avg = 162, std dev = 5, 10K values\n",
        "print(child_h)\n",
        "\n",
        "# plot a histogram\n",
        "plt.hist(child_h, bins=50)\n",
        "plt.show()"
      ],
      "execution_count": 0,
      "outputs": []
    },
    {
      "cell_type": "code",
      "metadata": {
        "id": "C6N64j825SzA",
        "colab_type": "code",
        "colab": {}
      },
      "source": [
        "# generate child weights\n",
        "child_w = np.random.normal(50, 5, 10000)\n",
        "\n",
        "# generate child labels (all zero)\n",
        "child_l = np.zeros(10000)\n",
        "\n",
        "# prepare the child data\n",
        "child_data = np.stack([child_h, child_w, child_l], axis=1)\n",
        "print(child_data)\n",
        "\n",
        "# plot a 2D histogram\n",
        "plt.hist2d(child_data[:,0], child_data[:,1], bins=50)\n",
        "plt.show()"
      ],
      "execution_count": 0,
      "outputs": []
    },
    {
      "cell_type": "code",
      "metadata": {
        "id": "VX3UKuUkBx55",
        "colab_type": "code",
        "colab": {}
      },
      "source": [
        "# generate the adult heights, weights and labels\n",
        "adult_h = np.random.normal(170, 5, 10000)\n",
        "adult_w = np.random.normal(65, 5, 10000)\n",
        "adult_l = np.ones(10000) # all ones\n",
        "adult_data = np.stack([adult_h, adult_w, adult_l], axis=1)\n",
        "print(adult_data)\n",
        "\n",
        "# plot a 2D histgram\n",
        "plt.hist2d(adult_data[:,0], adult_data[:,1], bins=50)\n",
        "plt.show()"
      ],
      "execution_count": 0,
      "outputs": []
    },
    {
      "cell_type": "code",
      "metadata": {
        "id": "_bm5W2ibCBNI",
        "colab_type": "code",
        "colab": {}
      },
      "source": [
        "# combine child and adult data and shuffle it\n",
        "all_data = np.concatenate([child_data, adult_data])\n",
        "np.random.shuffle(all_data)\n",
        "print(all_data)\n",
        "\n",
        "# plot a 2D histogram\n",
        "plt.hist2d(all_data[:,0], all_data[:,1], bins=50)\n",
        "plt.show()"
      ],
      "execution_count": 0,
      "outputs": []
    },
    {
      "cell_type": "code",
      "metadata": {
        "id": "z2_RL7M-hRlH",
        "colab_type": "code",
        "colab": {}
      },
      "source": [
        "# save the data\n",
        "np.savetxt('data.csv', all_data, delimiter=',')\n",
        "\n",
        "# download the file\n",
        "from google.colab import files\n",
        "files.download('data.csv')"
      ],
      "execution_count": 0,
      "outputs": []
    }
  ]
}